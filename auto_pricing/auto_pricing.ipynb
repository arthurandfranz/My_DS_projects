{
 "cells": [
  {
   "cell_type": "markdown",
   "metadata": {},
   "source": [
    "# Задача прогнозирования рыночной стоимости авто"
   ]
  },
  {
   "cell_type": "markdown",
   "metadata": {},
   "source": [
    "По историческим данным о характеристиках авто и ценах хотим построить можель для прогнозирования рыночной стоимости автомобиля"
   ]
  },
  {
   "cell_type": "markdown",
   "metadata": {},
   "source": [
    "План решения:\n",
    "- [Подготовим данные](#prepare_data)\n",
    "- [Обучим модели](#learn_model)\n",
    "- [Проанализируем модели](#analyse_model)"
   ]
  },
  {
   "cell_type": "markdown",
   "metadata": {},
   "source": [
    "# 1. Подготовим данные\n",
    "<a id='prepare_data'></a>"
   ]
  },
  {
   "cell_type": "code",
   "execution_count": 1,
   "metadata": {},
   "outputs": [],
   "source": [
    "import pandas as pd\n",
    "import numpy as np\n",
    "from matplotlib import pyplot as plt\n",
    "import seaborn as sns\n",
    "\n",
    "from sklearn.preprocessing import OrdinalEncoder \n",
    "from sklearn.model_selection import train_test_split\n",
    "from sklearn.model_selection import GridSearchCV\n",
    "from sklearn.model_selection import cross_validate\n",
    "from sklearn.linear_model import LinearRegression\n",
    "\n",
    "from sklearn.metrics import make_scorer\n",
    "from sklearn.metrics import mean_squared_error\n",
    "from sklearn.metrics import r2_score\n",
    "from catboost import CatBoostRegressor\n",
    "import lightgbm as lgb\n",
    "import time"
   ]
  },
  {
   "cell_type": "code",
   "execution_count": 2,
   "metadata": {},
   "outputs": [
    {
     "data": {
      "text/html": [
       "<div>\n",
       "<style scoped>\n",
       "    .dataframe tbody tr th:only-of-type {\n",
       "        vertical-align: middle;\n",
       "    }\n",
       "\n",
       "    .dataframe tbody tr th {\n",
       "        vertical-align: top;\n",
       "    }\n",
       "\n",
       "    .dataframe thead th {\n",
       "        text-align: right;\n",
       "    }\n",
       "</style>\n",
       "<table border=\"1\" class=\"dataframe\">\n",
       "  <thead>\n",
       "    <tr style=\"text-align: right;\">\n",
       "      <th></th>\n",
       "      <th>DateCrawled</th>\n",
       "      <th>Price</th>\n",
       "      <th>VehicleType</th>\n",
       "      <th>RegistrationYear</th>\n",
       "      <th>Gearbox</th>\n",
       "      <th>Power</th>\n",
       "      <th>Model</th>\n",
       "      <th>Kilometer</th>\n",
       "      <th>RegistrationMonth</th>\n",
       "      <th>FuelType</th>\n",
       "      <th>Brand</th>\n",
       "      <th>NotRepaired</th>\n",
       "      <th>DateCreated</th>\n",
       "      <th>NumberOfPictures</th>\n",
       "      <th>PostalCode</th>\n",
       "      <th>LastSeen</th>\n",
       "    </tr>\n",
       "  </thead>\n",
       "  <tbody>\n",
       "    <tr>\n",
       "      <td>0</td>\n",
       "      <td>2016-03-24 11:52:17</td>\n",
       "      <td>480</td>\n",
       "      <td>NaN</td>\n",
       "      <td>1993</td>\n",
       "      <td>manual</td>\n",
       "      <td>0</td>\n",
       "      <td>golf</td>\n",
       "      <td>150000</td>\n",
       "      <td>0</td>\n",
       "      <td>petrol</td>\n",
       "      <td>volkswagen</td>\n",
       "      <td>NaN</td>\n",
       "      <td>2016-03-24 00:00:00</td>\n",
       "      <td>0</td>\n",
       "      <td>70435</td>\n",
       "      <td>2016-04-07 03:16:57</td>\n",
       "    </tr>\n",
       "    <tr>\n",
       "      <td>1</td>\n",
       "      <td>2016-03-24 10:58:45</td>\n",
       "      <td>18300</td>\n",
       "      <td>coupe</td>\n",
       "      <td>2011</td>\n",
       "      <td>manual</td>\n",
       "      <td>190</td>\n",
       "      <td>NaN</td>\n",
       "      <td>125000</td>\n",
       "      <td>5</td>\n",
       "      <td>gasoline</td>\n",
       "      <td>audi</td>\n",
       "      <td>yes</td>\n",
       "      <td>2016-03-24 00:00:00</td>\n",
       "      <td>0</td>\n",
       "      <td>66954</td>\n",
       "      <td>2016-04-07 01:46:50</td>\n",
       "    </tr>\n",
       "    <tr>\n",
       "      <td>2</td>\n",
       "      <td>2016-03-14 12:52:21</td>\n",
       "      <td>9800</td>\n",
       "      <td>suv</td>\n",
       "      <td>2004</td>\n",
       "      <td>auto</td>\n",
       "      <td>163</td>\n",
       "      <td>grand</td>\n",
       "      <td>125000</td>\n",
       "      <td>8</td>\n",
       "      <td>gasoline</td>\n",
       "      <td>jeep</td>\n",
       "      <td>NaN</td>\n",
       "      <td>2016-03-14 00:00:00</td>\n",
       "      <td>0</td>\n",
       "      <td>90480</td>\n",
       "      <td>2016-04-05 12:47:46</td>\n",
       "    </tr>\n",
       "    <tr>\n",
       "      <td>3</td>\n",
       "      <td>2016-03-17 16:54:04</td>\n",
       "      <td>1500</td>\n",
       "      <td>small</td>\n",
       "      <td>2001</td>\n",
       "      <td>manual</td>\n",
       "      <td>75</td>\n",
       "      <td>golf</td>\n",
       "      <td>150000</td>\n",
       "      <td>6</td>\n",
       "      <td>petrol</td>\n",
       "      <td>volkswagen</td>\n",
       "      <td>no</td>\n",
       "      <td>2016-03-17 00:00:00</td>\n",
       "      <td>0</td>\n",
       "      <td>91074</td>\n",
       "      <td>2016-03-17 17:40:17</td>\n",
       "    </tr>\n",
       "    <tr>\n",
       "      <td>4</td>\n",
       "      <td>2016-03-31 17:25:20</td>\n",
       "      <td>3600</td>\n",
       "      <td>small</td>\n",
       "      <td>2008</td>\n",
       "      <td>manual</td>\n",
       "      <td>69</td>\n",
       "      <td>fabia</td>\n",
       "      <td>90000</td>\n",
       "      <td>7</td>\n",
       "      <td>gasoline</td>\n",
       "      <td>skoda</td>\n",
       "      <td>no</td>\n",
       "      <td>2016-03-31 00:00:00</td>\n",
       "      <td>0</td>\n",
       "      <td>60437</td>\n",
       "      <td>2016-04-06 10:17:21</td>\n",
       "    </tr>\n",
       "  </tbody>\n",
       "</table>\n",
       "</div>"
      ],
      "text/plain": [
       "           DateCrawled  Price VehicleType  RegistrationYear Gearbox  Power  \\\n",
       "0  2016-03-24 11:52:17    480         NaN              1993  manual      0   \n",
       "1  2016-03-24 10:58:45  18300       coupe              2011  manual    190   \n",
       "2  2016-03-14 12:52:21   9800         suv              2004    auto    163   \n",
       "3  2016-03-17 16:54:04   1500       small              2001  manual     75   \n",
       "4  2016-03-31 17:25:20   3600       small              2008  manual     69   \n",
       "\n",
       "   Model  Kilometer  RegistrationMonth  FuelType       Brand NotRepaired  \\\n",
       "0   golf     150000                  0    petrol  volkswagen         NaN   \n",
       "1    NaN     125000                  5  gasoline        audi         yes   \n",
       "2  grand     125000                  8  gasoline        jeep         NaN   \n",
       "3   golf     150000                  6    petrol  volkswagen          no   \n",
       "4  fabia      90000                  7  gasoline       skoda          no   \n",
       "\n",
       "           DateCreated  NumberOfPictures  PostalCode             LastSeen  \n",
       "0  2016-03-24 00:00:00                 0       70435  2016-04-07 03:16:57  \n",
       "1  2016-03-24 00:00:00                 0       66954  2016-04-07 01:46:50  \n",
       "2  2016-03-14 00:00:00                 0       90480  2016-04-05 12:47:46  \n",
       "3  2016-03-17 00:00:00                 0       91074  2016-03-17 17:40:17  \n",
       "4  2016-03-31 00:00:00                 0       60437  2016-04-06 10:17:21  "
      ]
     },
     "execution_count": 2,
     "metadata": {},
     "output_type": "execute_result"
    }
   ],
   "source": [
    "source_df = pd.read_csv(r'C:\\Users\\Nikolay\\My_DS_projects\\datasets\\autos.csv')\n",
    "source_df.head()"
   ]
  },
  {
   "cell_type": "code",
   "execution_count": 3,
   "metadata": {},
   "outputs": [
    {
     "name": "stdout",
     "output_type": "stream",
     "text": [
      "<class 'pandas.core.frame.DataFrame'>\n",
      "RangeIndex: 354369 entries, 0 to 354368\n",
      "Data columns (total 16 columns):\n",
      "DateCrawled          354369 non-null object\n",
      "Price                354369 non-null int64\n",
      "VehicleType          316879 non-null object\n",
      "RegistrationYear     354369 non-null int64\n",
      "Gearbox              334536 non-null object\n",
      "Power                354369 non-null int64\n",
      "Model                334664 non-null object\n",
      "Kilometer            354369 non-null int64\n",
      "RegistrationMonth    354369 non-null int64\n",
      "FuelType             321474 non-null object\n",
      "Brand                354369 non-null object\n",
      "NotRepaired          283215 non-null object\n",
      "DateCreated          354369 non-null object\n",
      "NumberOfPictures     354369 non-null int64\n",
      "PostalCode           354369 non-null int64\n",
      "LastSeen             354369 non-null object\n",
      "dtypes: int64(7), object(9)\n",
      "memory usage: 43.3+ MB\n"
     ]
    }
   ],
   "source": [
    "source_df.info()"
   ]
  },
  {
   "cell_type": "code",
   "execution_count": 4,
   "metadata": {},
   "outputs": [
    {
     "data": {
      "text/html": [
       "<div>\n",
       "<style scoped>\n",
       "    .dataframe tbody tr th:only-of-type {\n",
       "        vertical-align: middle;\n",
       "    }\n",
       "\n",
       "    .dataframe tbody tr th {\n",
       "        vertical-align: top;\n",
       "    }\n",
       "\n",
       "    .dataframe thead th {\n",
       "        text-align: right;\n",
       "    }\n",
       "</style>\n",
       "<table border=\"1\" class=\"dataframe\">\n",
       "  <thead>\n",
       "    <tr style=\"text-align: right;\">\n",
       "      <th></th>\n",
       "      <th>Price</th>\n",
       "      <th>RegistrationYear</th>\n",
       "      <th>Power</th>\n",
       "      <th>Kilometer</th>\n",
       "      <th>RegistrationMonth</th>\n",
       "      <th>NumberOfPictures</th>\n",
       "      <th>PostalCode</th>\n",
       "    </tr>\n",
       "  </thead>\n",
       "  <tbody>\n",
       "    <tr>\n",
       "      <td>count</td>\n",
       "      <td>354369.000000</td>\n",
       "      <td>354369.000000</td>\n",
       "      <td>354369.000000</td>\n",
       "      <td>354369.000000</td>\n",
       "      <td>354369.000000</td>\n",
       "      <td>354369.0</td>\n",
       "      <td>354369.000000</td>\n",
       "    </tr>\n",
       "    <tr>\n",
       "      <td>mean</td>\n",
       "      <td>4416.656776</td>\n",
       "      <td>2004.234448</td>\n",
       "      <td>110.094337</td>\n",
       "      <td>128211.172535</td>\n",
       "      <td>5.714645</td>\n",
       "      <td>0.0</td>\n",
       "      <td>50508.689087</td>\n",
       "    </tr>\n",
       "    <tr>\n",
       "      <td>std</td>\n",
       "      <td>4514.158514</td>\n",
       "      <td>90.227958</td>\n",
       "      <td>189.850405</td>\n",
       "      <td>37905.341530</td>\n",
       "      <td>3.726421</td>\n",
       "      <td>0.0</td>\n",
       "      <td>25783.096248</td>\n",
       "    </tr>\n",
       "    <tr>\n",
       "      <td>min</td>\n",
       "      <td>0.000000</td>\n",
       "      <td>1000.000000</td>\n",
       "      <td>0.000000</td>\n",
       "      <td>5000.000000</td>\n",
       "      <td>0.000000</td>\n",
       "      <td>0.0</td>\n",
       "      <td>1067.000000</td>\n",
       "    </tr>\n",
       "    <tr>\n",
       "      <td>25%</td>\n",
       "      <td>1050.000000</td>\n",
       "      <td>1999.000000</td>\n",
       "      <td>69.000000</td>\n",
       "      <td>125000.000000</td>\n",
       "      <td>3.000000</td>\n",
       "      <td>0.0</td>\n",
       "      <td>30165.000000</td>\n",
       "    </tr>\n",
       "    <tr>\n",
       "      <td>50%</td>\n",
       "      <td>2700.000000</td>\n",
       "      <td>2003.000000</td>\n",
       "      <td>105.000000</td>\n",
       "      <td>150000.000000</td>\n",
       "      <td>6.000000</td>\n",
       "      <td>0.0</td>\n",
       "      <td>49413.000000</td>\n",
       "    </tr>\n",
       "    <tr>\n",
       "      <td>75%</td>\n",
       "      <td>6400.000000</td>\n",
       "      <td>2008.000000</td>\n",
       "      <td>143.000000</td>\n",
       "      <td>150000.000000</td>\n",
       "      <td>9.000000</td>\n",
       "      <td>0.0</td>\n",
       "      <td>71083.000000</td>\n",
       "    </tr>\n",
       "    <tr>\n",
       "      <td>max</td>\n",
       "      <td>20000.000000</td>\n",
       "      <td>9999.000000</td>\n",
       "      <td>20000.000000</td>\n",
       "      <td>150000.000000</td>\n",
       "      <td>12.000000</td>\n",
       "      <td>0.0</td>\n",
       "      <td>99998.000000</td>\n",
       "    </tr>\n",
       "  </tbody>\n",
       "</table>\n",
       "</div>"
      ],
      "text/plain": [
       "               Price  RegistrationYear          Power      Kilometer  \\\n",
       "count  354369.000000     354369.000000  354369.000000  354369.000000   \n",
       "mean     4416.656776       2004.234448     110.094337  128211.172535   \n",
       "std      4514.158514         90.227958     189.850405   37905.341530   \n",
       "min         0.000000       1000.000000       0.000000    5000.000000   \n",
       "25%      1050.000000       1999.000000      69.000000  125000.000000   \n",
       "50%      2700.000000       2003.000000     105.000000  150000.000000   \n",
       "75%      6400.000000       2008.000000     143.000000  150000.000000   \n",
       "max     20000.000000       9999.000000   20000.000000  150000.000000   \n",
       "\n",
       "       RegistrationMonth  NumberOfPictures     PostalCode  \n",
       "count      354369.000000          354369.0  354369.000000  \n",
       "mean            5.714645               0.0   50508.689087  \n",
       "std             3.726421               0.0   25783.096248  \n",
       "min             0.000000               0.0    1067.000000  \n",
       "25%             3.000000               0.0   30165.000000  \n",
       "50%             6.000000               0.0   49413.000000  \n",
       "75%             9.000000               0.0   71083.000000  \n",
       "max            12.000000               0.0   99998.000000  "
      ]
     },
     "execution_count": 4,
     "metadata": {},
     "output_type": "execute_result"
    }
   ],
   "source": [
    "source_df.describe()"
   ]
  },
  {
   "cell_type": "markdown",
   "metadata": {},
   "source": [
    "NumberOfPicures - не валидное поле, удалим его  \n",
    "PostalCode - оставим только первые три цифры и сделаем признак категорийным, так мы сделаем признак региона  \n",
    "Даты в исходном виде - не подходящий признак для алгоритмов. Попробуем сгенерировать признаки:\n",
    "- количество месяцев между датой регистрацией автомобиля и датой создания анкеты\n",
    "- количество дней между датой создания анкеты и датой последнего просмотра\n",
    "- количество дней между датой создания анкеты и датой скачивания анкеты из базы"
   ]
  },
  {
   "cell_type": "code",
   "execution_count": 5,
   "metadata": {},
   "outputs": [],
   "source": [
    "df = source_df.drop('NumberOfPictures', axis = 1).reset_index(drop = True)\n",
    "df['PostalCode'] = df['PostalCode'].astype('str').str[:3]\n",
    "\n",
    "df['DateCreated'] = pd.to_datetime(df['DateCreated'], format = '%Y-%m-%d')\n",
    "df['DateCrawled'] = pd.to_datetime(df['DateCrawled'], format = '%Y-%m-%d')\n",
    "df['LastSeen'] = pd.to_datetime(df['LastSeen'], format = '%Y-%m-%d')\n",
    "df['RegistrationDate'] = pd.to_datetime(dict(year = df['RegistrationYear'], month = df['RegistrationMonth'], day = 1),format = '%Y-%M-%d',errors = 'coerce')\n",
    "\n",
    "df['MonthDelta_Registration_Created'] = round(((df['DateCreated'] - df['RegistrationDate']) / np.timedelta64(1, 'M')),0).astype('Int64')\n",
    "df['DaysDelta_Created_LastSeen'] = round(((df['LastSeen'] - df['DateCreated']) / np.timedelta64(1, 'D')),0).astype('Int64')\n",
    "df['DaysDelta_Created_Crawled'] = round(((df['DateCrawled'] - df['DateCreated']) / np.timedelta64(1, 'D')),0).astype('Int64')\n",
    "\n",
    "df = df.drop(['LastSeen','DateCrawled','RegistrationMonth','DateCreated','RegistrationDate'], axis = 1)"
   ]
  },
  {
   "cell_type": "code",
   "execution_count": 6,
   "metadata": {},
   "outputs": [
    {
     "data": {
      "text/html": [
       "<div>\n",
       "<style scoped>\n",
       "    .dataframe tbody tr th:only-of-type {\n",
       "        vertical-align: middle;\n",
       "    }\n",
       "\n",
       "    .dataframe tbody tr th {\n",
       "        vertical-align: top;\n",
       "    }\n",
       "\n",
       "    .dataframe thead th {\n",
       "        text-align: right;\n",
       "    }\n",
       "</style>\n",
       "<table border=\"1\" class=\"dataframe\">\n",
       "  <thead>\n",
       "    <tr style=\"text-align: right;\">\n",
       "      <th></th>\n",
       "      <th>Price</th>\n",
       "      <th>RegistrationYear</th>\n",
       "      <th>Power</th>\n",
       "      <th>Kilometer</th>\n",
       "      <th>MonthDelta_Registration_Created</th>\n",
       "      <th>DaysDelta_Created_LastSeen</th>\n",
       "      <th>DaysDelta_Created_Crawled</th>\n",
       "    </tr>\n",
       "  </thead>\n",
       "  <tbody>\n",
       "    <tr>\n",
       "      <td>Price</td>\n",
       "      <td>1.000000</td>\n",
       "      <td>0.026916</td>\n",
       "      <td>0.158872</td>\n",
       "      <td>-0.333199</td>\n",
       "      <td>-0.398638</td>\n",
       "      <td>0.148139</td>\n",
       "      <td>0.016898</td>\n",
       "    </tr>\n",
       "    <tr>\n",
       "      <td>RegistrationYear</td>\n",
       "      <td>0.026916</td>\n",
       "      <td>1.000000</td>\n",
       "      <td>-0.000828</td>\n",
       "      <td>-0.053447</td>\n",
       "      <td>-0.999224</td>\n",
       "      <td>-0.000428</td>\n",
       "      <td>-0.000046</td>\n",
       "    </tr>\n",
       "    <tr>\n",
       "      <td>Power</td>\n",
       "      <td>0.158872</td>\n",
       "      <td>-0.000828</td>\n",
       "      <td>1.000000</td>\n",
       "      <td>0.024002</td>\n",
       "      <td>-0.033115</td>\n",
       "      <td>0.020279</td>\n",
       "      <td>0.000863</td>\n",
       "    </tr>\n",
       "    <tr>\n",
       "      <td>Kilometer</td>\n",
       "      <td>-0.333199</td>\n",
       "      <td>-0.053447</td>\n",
       "      <td>0.024002</td>\n",
       "      <td>1.000000</td>\n",
       "      <td>0.224606</td>\n",
       "      <td>-0.067756</td>\n",
       "      <td>-0.009722</td>\n",
       "    </tr>\n",
       "    <tr>\n",
       "      <td>MonthDelta_Registration_Created</td>\n",
       "      <td>-0.398638</td>\n",
       "      <td>-0.999224</td>\n",
       "      <td>-0.033115</td>\n",
       "      <td>0.224606</td>\n",
       "      <td>1.000000</td>\n",
       "      <td>-0.019466</td>\n",
       "      <td>-0.007426</td>\n",
       "    </tr>\n",
       "    <tr>\n",
       "      <td>DaysDelta_Created_LastSeen</td>\n",
       "      <td>0.148139</td>\n",
       "      <td>-0.000428</td>\n",
       "      <td>0.020279</td>\n",
       "      <td>-0.067756</td>\n",
       "      <td>-0.019466</td>\n",
       "      <td>1.000000</td>\n",
       "      <td>0.267937</td>\n",
       "    </tr>\n",
       "    <tr>\n",
       "      <td>DaysDelta_Created_Crawled</td>\n",
       "      <td>0.016898</td>\n",
       "      <td>-0.000046</td>\n",
       "      <td>0.000863</td>\n",
       "      <td>-0.009722</td>\n",
       "      <td>-0.007426</td>\n",
       "      <td>0.267937</td>\n",
       "      <td>1.000000</td>\n",
       "    </tr>\n",
       "  </tbody>\n",
       "</table>\n",
       "</div>"
      ],
      "text/plain": [
       "                                    Price  RegistrationYear     Power  \\\n",
       "Price                            1.000000          0.026916  0.158872   \n",
       "RegistrationYear                 0.026916          1.000000 -0.000828   \n",
       "Power                            0.158872         -0.000828  1.000000   \n",
       "Kilometer                       -0.333199         -0.053447  0.024002   \n",
       "MonthDelta_Registration_Created -0.398638         -0.999224 -0.033115   \n",
       "DaysDelta_Created_LastSeen       0.148139         -0.000428  0.020279   \n",
       "DaysDelta_Created_Crawled        0.016898         -0.000046  0.000863   \n",
       "\n",
       "                                 Kilometer  MonthDelta_Registration_Created  \\\n",
       "Price                            -0.333199                        -0.398638   \n",
       "RegistrationYear                 -0.053447                        -0.999224   \n",
       "Power                             0.024002                        -0.033115   \n",
       "Kilometer                         1.000000                         0.224606   \n",
       "MonthDelta_Registration_Created   0.224606                         1.000000   \n",
       "DaysDelta_Created_LastSeen       -0.067756                        -0.019466   \n",
       "DaysDelta_Created_Crawled        -0.009722                        -0.007426   \n",
       "\n",
       "                                 DaysDelta_Created_LastSeen  \\\n",
       "Price                                              0.148139   \n",
       "RegistrationYear                                  -0.000428   \n",
       "Power                                              0.020279   \n",
       "Kilometer                                         -0.067756   \n",
       "MonthDelta_Registration_Created                   -0.019466   \n",
       "DaysDelta_Created_LastSeen                         1.000000   \n",
       "DaysDelta_Created_Crawled                          0.267937   \n",
       "\n",
       "                                 DaysDelta_Created_Crawled  \n",
       "Price                                             0.016898  \n",
       "RegistrationYear                                 -0.000046  \n",
       "Power                                             0.000863  \n",
       "Kilometer                                        -0.009722  \n",
       "MonthDelta_Registration_Created                  -0.007426  \n",
       "DaysDelta_Created_LastSeen                        0.267937  \n",
       "DaysDelta_Created_Crawled                         1.000000  "
      ]
     },
     "execution_count": 6,
     "metadata": {},
     "output_type": "execute_result"
    }
   ],
   "source": [
    "df.corr()"
   ]
  },
  {
   "cell_type": "code",
   "execution_count": 7,
   "metadata": {},
   "outputs": [
    {
     "data": {
      "text/plain": [
       "<matplotlib.axes._subplots.AxesSubplot at 0x2430003a208>"
      ]
     },
     "execution_count": 7,
     "metadata": {},
     "output_type": "execute_result"
    },
    {
     "data": {
      "image/png": "[encoded data removed]",
      "text/plain": [
       "<Figure size 432x432 with 2 Axes>"
      ]
     },
     "metadata": {
      "needs_background": "light"
     },
     "output_type": "display_data"
    }
   ],
   "source": [
    "fig, axes = plt.subplots(1, figsize=(6,6))\n",
    "sns.heatmap(df.corr(), annot=True)"
   ]
  },
  {
   "cell_type": "markdown",
   "metadata": {},
   "source": [
    "Попробуем востановить пропуски в VehicleType"
   ]
  },
  {
   "cell_type": "code",
   "execution_count": 8,
   "metadata": {},
   "outputs": [],
   "source": [
    "# создадим словарь\n",
    "def calc_mode(series):\n",
    "    mode = series.mode()\n",
    "    try:\n",
    "        return mode[0]\n",
    "    except:\n",
    "        return mode\n",
    "mapper = df.groupby([\"Brand\",\"Model\"])[\"VehicleType\"].agg(calc_mode).to_dict()"
   ]
  },
  {
   "cell_type": "code",
   "execution_count": 9,
   "metadata": {},
   "outputs": [],
   "source": [
    "def fill_vehicle_type(row):\n",
    "    return mapper.get((row['Brand'],row['Model']))"
   ]
  },
  {
   "cell_type": "code",
   "execution_count": 10,
   "metadata": {},
   "outputs": [],
   "source": [
    "#заполним пропуски по совпадению с маркой и моделью\n",
    "df['VehicleType']=df.apply(fill_vehicle_type,axis=1)"
   ]
  },
  {
   "cell_type": "markdown",
   "metadata": {},
   "source": [
    "Остальные категорийные переменные заполним значением unknow"
   ]
  },
  {
   "cell_type": "code",
   "execution_count": 11,
   "metadata": {},
   "outputs": [],
   "source": [
    "df[['VehicleType','Gearbox','Model','FuelType','Brand','NotRepaired','PostalCode']] = df[['VehicleType','Gearbox','Model','FuelType','Brand','NotRepaired','PostalCode']].fillna('unk')"
   ]
  },
  {
   "cell_type": "markdown",
   "metadata": {},
   "source": [
    "Посмотрим распределение количественных переменных"
   ]
  },
  {
   "cell_type": "code",
   "execution_count": 12,
   "metadata": {},
   "outputs": [],
   "source": [
    "def chek_distribution(df):\n",
    "    for column in df.columns:\n",
    "        if df[column].dtypes != 'object':\n",
    "            fig, axes = plt.subplots(1, 2, figsize=(14,5))\n",
    "            sns.distplot(df[column], ax=axes[0])\n",
    "            sns.boxplot(df[column], ax=axes[1])\n",
    "            plt.show()"
   ]
  },
  {
   "cell_type": "code",
   "execution_count": 13,
   "metadata": {},
   "outputs": [
    {
     "data": {
      "image/png": "[encoded data removed]",
      "text/plain": [
       "<Figure size 1008x360 with 2 Axes>"
      ]
     },
     "metadata": {
      "needs_background": "light"
     },
     "output_type": "display_data"
    },
    {
     "data": {
      "image/png": "[encoded data removed]",
      "text/plain": [
       "<Figure size 1008x360 with 2 Axes>"
      ]
     },
     "metadata": {
      "needs_background": "light"
     },
     "output_type": "display_data"
    },
    {
     "data": {
      "image/png": "[encoded data removed]",
      "text/plain": [
       "<Figure size 1008x360 with 2 Axes>"
      ]
     },
     "metadata": {
      "needs_background": "light"
     },
     "output_type": "display_data"
    },
    {
     "data": {
      "image/png": "[encoded data removed]",
      "text/plain": [
       "<Figure size 1008x360 with 2 Axes>"
      ]
     },
     "metadata": {
      "needs_background": "light"
     },
     "output_type": "display_data"
    },
    {
     "name": "stderr",
     "output_type": "stream",
     "text": [
      "C:\\Users\\Nikolay\\Anaconda3\\lib\\site-packages\\numpy\\core\\_methods.py:28: RuntimeWarning: invalid value encountered in reduce\n",
      "  return umr_maximum(a, axis, None, out, keepdims, initial)\n",
      "C:\\Users\\Nikolay\\Anaconda3\\lib\\site-packages\\numpy\\core\\_methods.py:32: RuntimeWarning: invalid value encountered in reduce\n",
      "  return umr_minimum(a, axis, None, out, keepdims, initial)\n",
      "C:\\Users\\Nikolay\\Anaconda3\\lib\\site-packages\\numpy\\lib\\histograms.py:824: RuntimeWarning: invalid value encountered in greater_equal\n",
      "  keep = (tmp_a >= first_edge)\n",
      "C:\\Users\\Nikolay\\Anaconda3\\lib\\site-packages\\numpy\\lib\\histograms.py:825: RuntimeWarning: invalid value encountered in less_equal\n",
      "  keep &= (tmp_a <= last_edge)\n",
      "C:\\Users\\Nikolay\\Anaconda3\\lib\\site-packages\\statsmodels\\nonparametric\\kde.py:447: RuntimeWarning: invalid value encountered in greater\n",
      "  X = X[np.logical_and(X > clip[0], X < clip[1])] # won't work for two columns.\n",
      "C:\\Users\\Nikolay\\Anaconda3\\lib\\site-packages\\statsmodels\\nonparametric\\kde.py:447: RuntimeWarning: invalid value encountered in less\n",
      "  X = X[np.logical_and(X > clip[0], X < clip[1])] # won't work for two columns.\n"
     ]
    },
    {
     "data": {
      "image/png": "[encoded data removed]",
      "text/plain": [
       "<Figure size 1008x360 with 2 Axes>"
      ]
     },
     "metadata": {
      "needs_background": "light"
     },
     "output_type": "display_data"
    },
    {
     "data": {
      "image/png": "[encoded data removed]",
      "text/plain": [
       "<Figure size 1008x360 with 2 Axes>"
      ]
     },
     "metadata": {
      "needs_background": "light"
     },
     "output_type": "display_data"
    },
    {
     "data": {
      "image/png": "[encoded data removed]",
      "text/plain": [
       "<Figure size 1008x360 with 2 Axes>"
      ]
     },
     "metadata": {
      "needs_background": "light"
     },
     "output_type": "display_data"
    }
   ],
   "source": [
    "chek_distribution(df)"
   ]
  },
  {
   "cell_type": "markdown",
   "metadata": {},
   "source": [
    "Удалим из данных записи как с очевидно не корректными значениями (автомобили из будущего, автомобили с мощностью ракеты), так и выбросы"
   ]
  },
  {
   "cell_type": "code",
   "execution_count": 14,
   "metadata": {},
   "outputs": [],
   "source": [
    "df = df[df['Price']>100]\n",
    "df = df[df['RegistrationYear']>=1985]\n",
    "df = df[(df['Power']>5) & (df['Power']<300)]\n",
    "df = df[df['MonthDelta_Registration_Created']>=0].reset_index(drop=True)"
   ]
  },
  {
   "cell_type": "code",
   "execution_count": 15,
   "metadata": {},
   "outputs": [
    {
     "data": {
      "image/png": "[encoded data removed]",
      "text/plain": [
       "<Figure size 1008x360 with 2 Axes>"
      ]
     },
     "metadata": {
      "needs_background": "light"
     },
     "output_type": "display_data"
    },
    {
     "data": {
      "image/png": "[encoded data removed]",
      "text/plain": [
       "<Figure size 1008x360 with 2 Axes>"
      ]
     },
     "metadata": {
      "needs_background": "light"
     },
     "output_type": "display_data"
    },
    {
     "data": {
      "image/png": "[encoded data removed]",
      "text/plain": [
       "<Figure size 1008x360 with 2 Axes>"
      ]
     },
     "metadata": {
      "needs_background": "light"
     },
     "output_type": "display_data"
    },
    {
     "data": {
      "image/png": "[encoded data removed]",
      "text/plain": [
       "<Figure size 1008x360 with 2 Axes>"
      ]
     },
     "metadata": {
      "needs_background": "light"
     },
     "output_type": "display_data"
    },
    {
     "data": {
      "image/png": "[encoded data removed]",
      "text/plain": [
       "<Figure size 1008x360 with 2 Axes>"
      ]
     },
     "metadata": {
      "needs_background": "light"
     },
     "output_type": "display_data"
    },
    {
     "data": {
      "image/png": "[encoded data removed]",
      "text/plain": [
       "<Figure size 1008x360 with 2 Axes>"
      ]
     },
     "metadata": {
      "needs_background": "light"
     },
     "output_type": "display_data"
    },
    {
     "data": {
      "image/png": "[encoded data removed]",
      "text/plain": [
       "<Figure size 1008x360 with 2 Axes>"
      ]
     },
     "metadata": {
      "needs_background": "light"
     },
     "output_type": "display_data"
    }
   ],
   "source": [
    "chek_distribution(df)"
   ]
  },
  {
   "cell_type": "markdown",
   "metadata": {},
   "source": [
    "Проверим null значения в количественных переменных"
   ]
  },
  {
   "cell_type": "code",
   "execution_count": 16,
   "metadata": {},
   "outputs": [
    {
     "name": "stdout",
     "output_type": "stream",
     "text": [
      "Price 0.0\n",
      "RegistrationYear 0.0\n",
      "Power 0.0\n",
      "Kilometer 0.0\n",
      "MonthDelta_Registration_Created 0.0\n",
      "DaysDelta_Created_LastSeen 0.0\n",
      "DaysDelta_Created_Crawled 0.0\n"
     ]
    }
   ],
   "source": [
    "for column in df.columns:\n",
    "    if df[column].dtypes !='object':\n",
    "        print(column, df[column].isnull().mean())"
   ]
  },
  {
   "cell_type": "code",
   "execution_count": 17,
   "metadata": {},
   "outputs": [],
   "source": [
    "df['MonthDelta_Registration_Created'] = df['MonthDelta_Registration_Created'].astype('int')\n",
    "df['DaysDelta_Created_LastSeen'] = df['DaysDelta_Created_LastSeen'].astype('int')\n",
    "df['DaysDelta_Created_Crawled'] = df['DaysDelta_Created_Crawled'].astype('int')"
   ]
  },
  {
   "cell_type": "markdown",
   "metadata": {},
   "source": [
    "Проверим данные на дубликаты"
   ]
  },
  {
   "cell_type": "code",
   "execution_count": 18,
   "metadata": {},
   "outputs": [
    {
     "name": "stdout",
     "output_type": "stream",
     "text": [
      "Количество дублирующих строк 7689\n"
     ]
    }
   ],
   "source": [
    "print('Количество дублирующих строк',len(df[df.duplicated()==True]))"
   ]
  },
  {
   "cell_type": "markdown",
   "metadata": {},
   "source": [
    "Удалим дубликаты"
   ]
  },
  {
   "cell_type": "code",
   "execution_count": 19,
   "metadata": {},
   "outputs": [],
   "source": [
    "df=df.drop_duplicates().reset_index(drop=True)"
   ]
  },
  {
   "cell_type": "markdown",
   "metadata": {},
   "source": [
    "# 2. Обучим модели\n",
    "<a id='learn_model'></a>"
   ]
  },
  {
   "cell_type": "code",
   "execution_count": 20,
   "metadata": {},
   "outputs": [],
   "source": [
    "def get_category_features(df):\n",
    "    cat_features = []\n",
    "    for columns in df.columns:\n",
    "        if df[columns].dtypes == 'object':\n",
    "            cat_features.append(columns)\n",
    "    return cat_features"
   ]
  },
  {
   "cell_type": "code",
   "execution_count": 21,
   "metadata": {},
   "outputs": [],
   "source": [
    "def make_fetures_and_targets(df,target_columns):\n",
    "    X = df.drop(target_columns, axis = 1)\n",
    "    y = df[target_columns]\n",
    "    return X, y    "
   ]
  },
  {
   "cell_type": "markdown",
   "metadata": {},
   "source": [
    "Сначала попробуем catboost, на первом этапе сделаем gridsearch для поиска лучших гипперпараметров, а после обучим модель увеличив количество итераций и расчитаем RMSE и R2"
   ]
  },
  {
   "cell_type": "code",
   "execution_count": 22,
   "metadata": {},
   "outputs": [],
   "source": [
    "def go_catboost(df, target_name, lossfunc, learn_log):\n",
    "    categoty_features = get_category_features(df)\n",
    "    X, y = make_fetures_and_targets(df,target_name)\n",
    "    X_train, X_test, y_train, y_test = train_test_split(X, y, test_size=0.3, random_state=41)\n",
    "\n",
    "    mse = make_scorer(mean_squared_error,greater_is_better=False)\n",
    "    \n",
    "    print('Сначала подберем depth и learning_rate')\n",
    "    model = CatBoostRegressor(loss_function=lossfunc, iterations=1, cat_features = categoty_features)\n",
    "    grid = {'learning_rate': [0.03, 0.1],\n",
    "        'depth': [4, 6, 10],\n",
    "        'l2_leaf_reg': [1, 3, 5, 7, 9]}\n",
    "    grid_search_result = model.grid_search(grid, X_train, y_train)\n",
    "    best_params = grid_search_result.get('params')\n",
    "    print('Лучшие параметры',best_params)\n",
    "    best_params['iterations']=200\n",
    "    \n",
    "    print('На лучишх параметрах обучим обучающую выборку выборку и увличим параметр iterations')\n",
    "    model = CatBoostRegressor(**best_params, cat_features = categoty_features, verbose=10)\n",
    "    start = time.time()\n",
    "    model.fit(X_train, y_train)\n",
    "    end = time.time()\n",
    "    learn_log.append(['CatBoost','Время обучения',end - start])\n",
    "    print('Время обучения', end - start)\n",
    "    \n",
    "    start = time.time()\n",
    "    predict = model.predict(X_test)\n",
    "    end = time.time()\n",
    "    print('Время предсказания', end - start)\n",
    "    learn_log.append(['CatBoost','Время предсказания',end - start])\n",
    "    print('RMSE', mean_squared_error(y_test,predict)**0.5)\n",
    "    learn_log.append(['CatBoost','RMSE',mean_squared_error(y_test,predict)**0.5])\n",
    "\n",
    "    return learn_log"
   ]
  },
  {
   "cell_type": "code",
   "execution_count": 23,
   "metadata": {},
   "outputs": [],
   "source": [
    "learn_log = []"
   ]
  },
  {
   "cell_type": "code",
   "execution_count": 24,
   "metadata": {},
   "outputs": [
    {
     "name": "stdout",
     "output_type": "stream",
     "text": [
      "Сначала подберем depth и learning_rate\n",
      "\n",
      "bestTest = 6502.22484\n",
      "bestIteration = 0\n",
      "\n",
      "0:\tloss: 6502.2248395\tbest: 6502.2248395 (0)\ttotal: 297ms\tremaining: 8.61s\n",
      "\n",
      "bestTest = 6116.258424\n",
      "bestIteration = 0\n",
      "\n",
      "1:\tloss: 6116.2584240\tbest: 6116.2584240 (1)\ttotal: 415ms\tremaining: 5.81s\n",
      "\n",
      "bestTest = 6502.279213\n",
      "bestIteration = 0\n",
      "\n",
      "2:\tloss: 6502.2792128\tbest: 6116.2584240 (1)\ttotal: 523ms\tremaining: 4.71s\n",
      "\n",
      "bestTest = 6116.43725\n",
      "bestIteration = 0\n",
      "\n",
      "3:\tloss: 6116.4372503\tbest: 6116.2584240 (1)\ttotal: 626ms\tremaining: 4.07s\n",
      "\n",
      "bestTest = 6502.333461\n",
      "bestIteration = 0\n",
      "\n",
      "4:\tloss: 6502.3334608\tbest: 6116.2584240 (1)\ttotal: 736ms\tremaining: 3.68s\n",
      "\n",
      "bestTest = 6116.615677\n",
      "bestIteration = 0\n",
      "\n",
      "5:\tloss: 6116.6156766\tbest: 6116.2584240 (1)\ttotal: 840ms\tremaining: 3.36s\n",
      "\n",
      "bestTest = 6502.387584\n",
      "bestIteration = 0\n",
      "\n",
      "6:\tloss: 6502.3875845\tbest: 6116.2584240 (1)\ttotal: 948ms\tremaining: 3.12s\n",
      "\n",
      "bestTest = 6116.793706\n",
      "bestIteration = 0\n",
      "\n",
      "7:\tloss: 6116.7937057\tbest: 6116.2584240 (1)\ttotal: 1.07s\tremaining: 2.93s\n",
      "\n",
      "bestTest = 6502.441585\n",
      "bestIteration = 0\n",
      "\n",
      "8:\tloss: 6502.4415848\tbest: 6116.2584240 (1)\ttotal: 1.17s\tremaining: 2.73s\n",
      "\n",
      "bestTest = 6116.971341\n",
      "bestIteration = 0\n",
      "\n",
      "9:\tloss: 6116.9713407\tbest: 6116.2584240 (1)\ttotal: 1.28s\tremaining: 2.55s\n",
      "\n",
      "bestTest = 6498.265926\n",
      "bestIteration = 0\n",
      "\n",
      "10:\tloss: 6498.2659263\tbest: 6116.2584240 (1)\ttotal: 1.41s\tremaining: 2.43s\n",
      "\n",
      "bestTest = 6102.671928\n",
      "bestIteration = 0\n",
      "\n",
      "11:\tloss: 6102.6719278\tbest: 6102.6719278 (11)\ttotal: 1.53s\tremaining: 2.29s\n",
      "\n",
      "bestTest = 6498.382834\n",
      "bestIteration = 0\n",
      "\n",
      "12:\tloss: 6498.3828340\tbest: 6102.6719278 (11)\ttotal: 1.65s\tremaining: 2.15s\n",
      "\n",
      "bestTest = 6103.057159\n",
      "bestIteration = 0\n",
      "\n",
      "13:\tloss: 6103.0571586\tbest: 6102.6719278 (11)\ttotal: 1.78s\tremaining: 2.03s\n",
      "\n",
      "bestTest = 6498.499118\n",
      "bestIteration = 0\n",
      "\n",
      "14:\tloss: 6498.4991185\tbest: 6102.6719278 (11)\ttotal: 1.9s\tremaining: 1.9s\n",
      "\n",
      "bestTest = 6103.440396\n",
      "bestIteration = 0\n",
      "\n",
      "15:\tloss: 6103.4403955\tbest: 6102.6719278 (11)\ttotal: 2.04s\tremaining: 1.79s\n",
      "\n",
      "bestTest = 6498.614791\n",
      "bestIteration = 0\n",
      "\n",
      "16:\tloss: 6498.6147906\tbest: 6102.6719278 (11)\ttotal: 2.17s\tremaining: 1.66s\n",
      "\n",
      "bestTest = 6103.821672\n",
      "bestIteration = 0\n",
      "\n",
      "17:\tloss: 6103.8216722\tbest: 6102.6719278 (11)\ttotal: 2.32s\tremaining: 1.55s\n",
      "\n",
      "bestTest = 6498.729861\n",
      "bestIteration = 0\n",
      "\n",
      "18:\tloss: 6498.7298612\tbest: 6102.6719278 (11)\ttotal: 2.46s\tremaining: 1.42s\n",
      "\n",
      "bestTest = 6104.201022\n",
      "bestIteration = 0\n",
      "\n",
      "19:\tloss: 6104.2010217\tbest: 6102.6719278 (11)\ttotal: 2.61s\tremaining: 1.3s\n",
      "\n",
      "bestTest = 6493.894221\n",
      "bestIteration = 0\n",
      "\n",
      "20:\tloss: 6493.8942214\tbest: 6102.6719278 (11)\ttotal: 2.82s\tremaining: 1.21s\n",
      "\n",
      "bestTest = 6087.699877\n",
      "bestIteration = 0\n",
      "\n",
      "21:\tloss: 6087.6998772\tbest: 6087.6998772 (21)\ttotal: 3.03s\tremaining: 1.1s\n",
      "\n",
      "bestTest = 6494.240669\n",
      "bestIteration = 0\n",
      "\n",
      "22:\tloss: 6494.2406688\tbest: 6087.6998772 (21)\ttotal: 3.21s\tremaining: 977ms\n",
      "\n",
      "bestTest = 6088.843726\n",
      "bestIteration = 0\n",
      "\n",
      "23:\tloss: 6088.8437256\tbest: 6087.6998772 (21)\ttotal: 3.39s\tremaining: 847ms\n",
      "\n",
      "bestTest = 6494.582545\n",
      "bestIteration = 0\n",
      "\n",
      "24:\tloss: 6494.5825452\tbest: 6087.6998772 (21)\ttotal: 3.57s\tremaining: 713ms\n",
      "\n",
      "bestTest = 6089.972825\n",
      "bestIteration = 0\n",
      "\n",
      "25:\tloss: 6089.9728251\tbest: 6087.6998772 (21)\ttotal: 3.75s\tremaining: 577ms\n",
      "\n",
      "bestTest = 6494.9201\n",
      "bestIteration = 0\n",
      "\n",
      "26:\tloss: 6494.9200996\tbest: 6087.6998772 (21)\ttotal: 3.93s\tremaining: 437ms\n",
      "\n",
      "bestTest = 6091.087973\n",
      "bestIteration = 0\n",
      "\n",
      "27:\tloss: 6091.0879726\tbest: 6087.6998772 (21)\ttotal: 4.11s\tremaining: 294ms\n",
      "\n",
      "bestTest = 6495.253537\n",
      "bestIteration = 0\n",
      "\n",
      "28:\tloss: 6495.2535369\tbest: 6087.6998772 (21)\ttotal: 4.3s\tremaining: 148ms\n",
      "\n",
      "bestTest = 6092.189821\n",
      "bestIteration = 0\n",
      "\n",
      "29:\tloss: 6092.1898210\tbest: 6087.6998772 (21)\ttotal: 4.48s\tremaining: 0us\n",
      "Estimating final quality...\n",
      "Лучшие параметры {'depth': 10, 'l2_leaf_reg': 1, 'learning_rate': 0.1}\n",
      "На лучишх параметрах обучим обучающую выборку выборку и увличим параметр iterations\n",
      "0:\tlearn: 4232.6030609\ttotal: 550ms\tremaining: 1m 49s\n",
      "10:\tlearn: 2337.5170764\ttotal: 5.78s\tremaining: 1m 39s\n",
      "20:\tlearn: 1818.6176943\ttotal: 11.1s\tremaining: 1m 34s\n",
      "30:\tlearn: 1668.7114604\ttotal: 16.9s\tremaining: 1m 31s\n",
      "40:\tlearn: 1608.8901323\ttotal: 22.4s\tremaining: 1m 26s\n",
      "50:\tlearn: 1575.4846049\ttotal: 27.9s\tremaining: 1m 21s\n",
      "60:\tlearn: 1548.6194828\ttotal: 33.5s\tremaining: 1m 16s\n",
      "70:\tlearn: 1529.5158535\ttotal: 39.3s\tremaining: 1m 11s\n",
      "80:\tlearn: 1513.5758083\ttotal: 45.4s\tremaining: 1m 6s\n",
      "90:\tlearn: 1498.6823185\ttotal: 51s\tremaining: 1m 1s\n",
      "100:\tlearn: 1486.8423146\ttotal: 56.9s\tremaining: 55.7s\n",
      "110:\tlearn: 1476.3644472\ttotal: 1m 2s\tremaining: 50.4s\n",
      "120:\tlearn: 1467.0601245\ttotal: 1m 8s\tremaining: 45s\n",
      "130:\tlearn: 1458.8619527\ttotal: 1m 14s\tremaining: 39.5s\n",
      "140:\tlearn: 1449.8664547\ttotal: 1m 21s\tremaining: 34.1s\n",
      "150:\tlearn: 1442.0770201\ttotal: 1m 27s\tremaining: 28.5s\n",
      "160:\tlearn: 1434.2243049\ttotal: 1m 33s\tremaining: 22.8s\n",
      "170:\tlearn: 1426.8358335\ttotal: 1m 39s\tremaining: 16.9s\n",
      "180:\tlearn: 1419.8347296\ttotal: 1m 46s\tremaining: 11.1s\n",
      "190:\tlearn: 1413.2223046\ttotal: 1m 53s\tremaining: 5.36s\n",
      "199:\tlearn: 1407.2213643\ttotal: 1m 59s\tremaining: 0us\n",
      "Время обучения 121.15318155288696\n",
      "Время предсказания 0.6311995983123779\n",
      "RMSE 1481.4427571044193\n"
     ]
    }
   ],
   "source": [
    "learn_log = go_catboost(df, 'Price','RMSE', learn_log)"
   ]
  },
  {
   "cell_type": "markdown",
   "metadata": {},
   "source": [
    "Теперь попробуем LightGBM"
   ]
  },
  {
   "cell_type": "code",
   "execution_count": 25,
   "metadata": {},
   "outputs": [],
   "source": [
    "def go_lightgbm(df, target_name, lossfunc, cat_features, learn_log):\n",
    "    X, y = make_fetures_and_targets(df,target_name)\n",
    "    X_train, X_test, y_train, y_test = train_test_split(X, y, test_size=0.3, random_state=41)\n",
    "    model = lgb.LGBMRegressor(n_estimators=1, colsample_bytree=0.7, subsample=0.7)\n",
    "    score = make_scorer(mean_squared_error,greater_is_better=False)\n",
    "    grid_params = {'learning_rate' : (0.02, 0.1, 0.02), 'num_leaves' : (2, 10, 2)}\n",
    "    gs = GridSearchCV(model, grid_params, scoring=score, cv=5, verbose=10)\n",
    "    gs.fit(X_train, y_train, eval_metric=lossfunc, verbose=10)\n",
    "    \n",
    "    best_params = gs.best_params_\n",
    "    \n",
    "    model = lgb.LGBMRegressor(**best_params, n_estimators=200, colsample_bytree=0.7, subsample=0.7)\n",
    "    start = time.time()\n",
    "    model.fit(X_train, y_train)\n",
    "    end = time.time()\n",
    "    learn_log.append(['LGBMR','Время обучения',end - start])\n",
    "    print('Время обучения', end - start)\n",
    "    \n",
    "    start = time.time()\n",
    "    predict = model.predict(X_test)\n",
    "    end = time.time()\n",
    "    learn_log.append(['LGBMR','Время предсказания',end - start])\n",
    "    print('Время предсказания', end - start)\n",
    "    \n",
    "    learn_log.append(['LGBMR','RMSE',mean_squared_error(y_test,predict)**0.5])\n",
    "    print('RMSE', mean_squared_error(y_test,predict)**0.5)\n",
    "    \n",
    "    return learn_log"
   ]
  },
  {
   "cell_type": "code",
   "execution_count": 26,
   "metadata": {},
   "outputs": [],
   "source": [
    "# создадим список категорийных и числовых признаков\n",
    "num_features = []\n",
    "cat_features = []\n",
    "for i in df.columns:\n",
    "    if df[i].dtypes != 'int64':\n",
    "        cat_features.append(i)\n",
    "    else:\n",
    "        num_features.append(i)"
   ]
  },
  {
   "cell_type": "code",
   "execution_count": 27,
   "metadata": {},
   "outputs": [
    {
     "data": {
      "text/html": [
       "<div>\n",
       "<style scoped>\n",
       "    .dataframe tbody tr th:only-of-type {\n",
       "        vertical-align: middle;\n",
       "    }\n",
       "\n",
       "    .dataframe tbody tr th {\n",
       "        vertical-align: top;\n",
       "    }\n",
       "\n",
       "    .dataframe thead th {\n",
       "        text-align: right;\n",
       "    }\n",
       "</style>\n",
       "<table border=\"1\" class=\"dataframe\">\n",
       "  <thead>\n",
       "    <tr style=\"text-align: right;\">\n",
       "      <th></th>\n",
       "      <th>VehicleType</th>\n",
       "      <th>Gearbox</th>\n",
       "      <th>Model</th>\n",
       "      <th>FuelType</th>\n",
       "      <th>Brand</th>\n",
       "      <th>NotRepaired</th>\n",
       "      <th>PostalCode</th>\n",
       "      <th>MonthDelta_Registration_Created</th>\n",
       "      <th>DaysDelta_Created_LastSeen</th>\n",
       "      <th>DaysDelta_Created_Crawled</th>\n",
       "      <th>Price</th>\n",
       "      <th>RegistrationYear</th>\n",
       "      <th>Power</th>\n",
       "      <th>Kilometer</th>\n",
       "    </tr>\n",
       "  </thead>\n",
       "  <tbody>\n",
       "    <tr>\n",
       "      <td>0</td>\n",
       "      <td>7</td>\n",
       "      <td>1</td>\n",
       "      <td>225</td>\n",
       "      <td>2</td>\n",
       "      <td>1</td>\n",
       "      <td>2</td>\n",
       "      <td>443</td>\n",
       "      <td>59</td>\n",
       "      <td>14</td>\n",
       "      <td>0</td>\n",
       "      <td>18300</td>\n",
       "      <td>2011</td>\n",
       "      <td>190</td>\n",
       "      <td>125000</td>\n",
       "    </tr>\n",
       "    <tr>\n",
       "      <td>1</td>\n",
       "      <td>6</td>\n",
       "      <td>0</td>\n",
       "      <td>117</td>\n",
       "      <td>2</td>\n",
       "      <td>14</td>\n",
       "      <td>1</td>\n",
       "      <td>633</td>\n",
       "      <td>139</td>\n",
       "      <td>23</td>\n",
       "      <td>1</td>\n",
       "      <td>9800</td>\n",
       "      <td>2004</td>\n",
       "      <td>163</td>\n",
       "      <td>125000</td>\n",
       "    </tr>\n",
       "    <tr>\n",
       "      <td>2</td>\n",
       "      <td>4</td>\n",
       "      <td>1</td>\n",
       "      <td>116</td>\n",
       "      <td>6</td>\n",
       "      <td>38</td>\n",
       "      <td>0</td>\n",
       "      <td>637</td>\n",
       "      <td>178</td>\n",
       "      <td>1</td>\n",
       "      <td>1</td>\n",
       "      <td>1500</td>\n",
       "      <td>2001</td>\n",
       "      <td>75</td>\n",
       "      <td>150000</td>\n",
       "    </tr>\n",
       "    <tr>\n",
       "      <td>3</td>\n",
       "      <td>5</td>\n",
       "      <td>1</td>\n",
       "      <td>101</td>\n",
       "      <td>2</td>\n",
       "      <td>31</td>\n",
       "      <td>0</td>\n",
       "      <td>389</td>\n",
       "      <td>93</td>\n",
       "      <td>6</td>\n",
       "      <td>1</td>\n",
       "      <td>3600</td>\n",
       "      <td>2008</td>\n",
       "      <td>69</td>\n",
       "      <td>90000</td>\n",
       "    </tr>\n",
       "    <tr>\n",
       "      <td>4</td>\n",
       "      <td>4</td>\n",
       "      <td>1</td>\n",
       "      <td>11</td>\n",
       "      <td>6</td>\n",
       "      <td>2</td>\n",
       "      <td>2</td>\n",
       "      <td>189</td>\n",
       "      <td>246</td>\n",
       "      <td>3</td>\n",
       "      <td>1</td>\n",
       "      <td>650</td>\n",
       "      <td>1995</td>\n",
       "      <td>102</td>\n",
       "      <td>150000</td>\n",
       "    </tr>\n",
       "  </tbody>\n",
       "</table>\n",
       "</div>"
      ],
      "text/plain": [
       "   VehicleType  Gearbox  Model  FuelType  Brand  NotRepaired  PostalCode  \\\n",
       "0            7        1    225         2      1            2         443   \n",
       "1            6        0    117         2     14            1         633   \n",
       "2            4        1    116         6     38            0         637   \n",
       "3            5        1    101         2     31            0         389   \n",
       "4            4        1     11         6      2            2         189   \n",
       "\n",
       "   MonthDelta_Registration_Created  DaysDelta_Created_LastSeen  \\\n",
       "0                               59                          14   \n",
       "1                              139                          23   \n",
       "2                              178                           1   \n",
       "3                               93                           6   \n",
       "4                              246                           3   \n",
       "\n",
       "   DaysDelta_Created_Crawled  Price  RegistrationYear  Power  Kilometer  \n",
       "0                          0  18300              2011    190     125000  \n",
       "1                          1   9800              2004    163     125000  \n",
       "2                          1   1500              2001     75     150000  \n",
       "3                          1   3600              2008     69      90000  \n",
       "4                          1    650              1995    102     150000  "
      ]
     },
     "execution_count": 27,
     "metadata": {},
     "output_type": "execute_result"
    }
   ],
   "source": [
    "#применим поярдковое кодирование\n",
    "encoder = OrdinalEncoder()\n",
    "encoder.fit(df[cat_features])\n",
    "df_for_lgbm = pd.DataFrame(encoder.transform(df[cat_features]), columns=df[cat_features].columns).join(df[num_features])\n",
    "df_for_lgbm[cat_features] = df_for_lgbm[cat_features].astype('int')\n",
    "df_for_lgbm.head()"
   ]
  },
  {
   "cell_type": "code",
   "execution_count": 28,
   "metadata": {},
   "outputs": [
    {
     "name": "stdout",
     "output_type": "stream",
     "text": [
      "Fitting 5 folds for each of 9 candidates, totalling 45 fits\n",
      "[CV] learning_rate=0.02, num_leaves=2 ................................\n"
     ]
    },
    {
     "name": "stderr",
     "output_type": "stream",
     "text": [
      "[Parallel(n_jobs=1)]: Using backend SequentialBackend with 1 concurrent workers.\n"
     ]
    },
    {
     "name": "stdout",
     "output_type": "stream",
     "text": [
      "[CV]  learning_rate=0.02, num_leaves=2, score=-20445202.198, total=   0.4s\n",
      "[CV] learning_rate=0.02, num_leaves=2 ................................\n"
     ]
    },
    {
     "name": "stderr",
     "output_type": "stream",
     "text": [
      "[Parallel(n_jobs=1)]: Done   1 out of   1 | elapsed:    0.3s remaining:    0.0s\n"
     ]
    },
    {
     "name": "stdout",
     "output_type": "stream",
     "text": [
      "[CV]  learning_rate=0.02, num_leaves=2, score=-20644531.058, total=   0.4s\n",
      "[CV] learning_rate=0.02, num_leaves=2 ................................\n"
     ]
    },
    {
     "name": "stderr",
     "output_type": "stream",
     "text": [
      "[Parallel(n_jobs=1)]: Done   2 out of   2 | elapsed:    0.7s remaining:    0.0s\n"
     ]
    },
    {
     "name": "stdout",
     "output_type": "stream",
     "text": [
      "[CV]  learning_rate=0.02, num_leaves=2, score=-20581545.495, total=   0.4s\n",
      "[CV] learning_rate=0.02, num_leaves=2 ................................\n"
     ]
    },
    {
     "name": "stderr",
     "output_type": "stream",
     "text": [
      "[Parallel(n_jobs=1)]: Done   3 out of   3 | elapsed:    1.1s remaining:    0.0s\n"
     ]
    },
    {
     "name": "stdout",
     "output_type": "stream",
     "text": [
      "[CV]  learning_rate=0.02, num_leaves=2, score=-20575081.952, total=   0.4s\n",
      "[CV] learning_rate=0.02, num_leaves=2 ................................\n"
     ]
    },
    {
     "name": "stderr",
     "output_type": "stream",
     "text": [
      "[Parallel(n_jobs=1)]: Done   4 out of   4 | elapsed:    1.5s remaining:    0.0s\n"
     ]
    },
    {
     "name": "stdout",
     "output_type": "stream",
     "text": [
      "[CV]  learning_rate=0.02, num_leaves=2, score=-20763845.551, total=   0.5s\n",
      "[CV] learning_rate=0.02, num_leaves=10 ...............................\n"
     ]
    },
    {
     "name": "stderr",
     "output_type": "stream",
     "text": [
      "[Parallel(n_jobs=1)]: Done   5 out of   5 | elapsed:    2.0s remaining:    0.0s\n"
     ]
    },
    {
     "name": "stdout",
     "output_type": "stream",
     "text": [
      "[CV]  learning_rate=0.02, num_leaves=10, score=-20230359.918, total=   0.4s\n",
      "[CV] learning_rate=0.02, num_leaves=10 ...............................\n"
     ]
    },
    {
     "name": "stderr",
     "output_type": "stream",
     "text": [
      "[Parallel(n_jobs=1)]: Done   6 out of   6 | elapsed:    2.4s remaining:    0.0s\n"
     ]
    },
    {
     "name": "stdout",
     "output_type": "stream",
     "text": [
      "[CV]  learning_rate=0.02, num_leaves=10, score=-20427345.970, total=   0.4s\n",
      "[CV] learning_rate=0.02, num_leaves=10 ...............................\n"
     ]
    },
    {
     "name": "stderr",
     "output_type": "stream",
     "text": [
      "[Parallel(n_jobs=1)]: Done   7 out of   7 | elapsed:    2.9s remaining:    0.0s\n"
     ]
    },
    {
     "name": "stdout",
     "output_type": "stream",
     "text": [
      "[CV]  learning_rate=0.02, num_leaves=10, score=-20366225.142, total=   0.4s\n",
      "[CV] learning_rate=0.02, num_leaves=10 ...............................\n"
     ]
    },
    {
     "name": "stderr",
     "output_type": "stream",
     "text": [
      "[Parallel(n_jobs=1)]: Done   8 out of   8 | elapsed:    3.3s remaining:    0.0s\n"
     ]
    },
    {
     "name": "stdout",
     "output_type": "stream",
     "text": [
      "[CV]  learning_rate=0.02, num_leaves=10, score=-20360212.928, total=   0.4s\n",
      "[CV] learning_rate=0.02, num_leaves=10 ...............................\n"
     ]
    },
    {
     "name": "stderr",
     "output_type": "stream",
     "text": [
      "[Parallel(n_jobs=1)]: Done   9 out of   9 | elapsed:    3.7s remaining:    0.0s\n"
     ]
    },
    {
     "name": "stdout",
     "output_type": "stream",
     "text": [
      "[CV]  learning_rate=0.02, num_leaves=10, score=-20548433.866, total=   0.4s\n",
      "[CV] learning_rate=0.02, num_leaves=2 ................................\n",
      "[CV]  learning_rate=0.02, num_leaves=2, score=-20445202.198, total=   0.4s\n",
      "[CV] learning_rate=0.02, num_leaves=2 ................................\n",
      "[CV]  learning_rate=0.02, num_leaves=2, score=-20644531.058, total=   0.4s\n",
      "[CV] learning_rate=0.02, num_leaves=2 ................................\n",
      "[CV]  learning_rate=0.02, num_leaves=2, score=-20581545.495, total=   0.4s\n",
      "[CV] learning_rate=0.02, num_leaves=2 ................................\n",
      "[CV]  learning_rate=0.02, num_leaves=2, score=-20575081.952, total=   0.4s\n",
      "[CV] learning_rate=0.02, num_leaves=2 ................................\n",
      "[CV]  learning_rate=0.02, num_leaves=2, score=-20763845.551, total=   0.4s\n",
      "[CV] learning_rate=0.1, num_leaves=2 .................................\n",
      "[CV]  learning_rate=0.1, num_leaves=2, score=-19098467.424, total=   0.5s\n",
      "[CV] learning_rate=0.1, num_leaves=2 .................................\n",
      "[CV]  learning_rate=0.1, num_leaves=2, score=-19285862.132, total=   0.4s\n",
      "[CV] learning_rate=0.1, num_leaves=2 .................................\n",
      "[CV]  learning_rate=0.1, num_leaves=2, score=-19231323.018, total=   0.4s\n",
      "[CV] learning_rate=0.1, num_leaves=2 .................................\n",
      "[CV]  learning_rate=0.1, num_leaves=2, score=-19227142.237, total=   0.4s\n",
      "[CV] learning_rate=0.1, num_leaves=2 .................................\n",
      "[CV]  learning_rate=0.1, num_leaves=2, score=-19419541.967, total=   0.4s\n",
      "[CV] learning_rate=0.1, num_leaves=10 ................................\n",
      "[CV]  learning_rate=0.1, num_leaves=10, score=-18067994.175, total=   0.4s\n",
      "[CV] learning_rate=0.1, num_leaves=10 ................................\n",
      "[CV]  learning_rate=0.1, num_leaves=10, score=-18244055.756, total=   0.4s\n",
      "[CV] learning_rate=0.1, num_leaves=10 ................................\n",
      "[CV]  learning_rate=0.1, num_leaves=10, score=-18198041.638, total=   0.4s\n",
      "[CV] learning_rate=0.1, num_leaves=10 ................................\n",
      "[CV]  learning_rate=0.1, num_leaves=10, score=-18195941.741, total=   0.4s\n",
      "[CV] learning_rate=0.1, num_leaves=10 ................................\n",
      "[CV]  learning_rate=0.1, num_leaves=10, score=-18386239.063, total=   0.4s\n",
      "[CV] learning_rate=0.1, num_leaves=2 .................................\n",
      "[CV]  learning_rate=0.1, num_leaves=2, score=-19098467.424, total=   0.4s\n",
      "[CV] learning_rate=0.1, num_leaves=2 .................................\n",
      "[CV]  learning_rate=0.1, num_leaves=2, score=-19285862.132, total=   0.4s\n",
      "[CV] learning_rate=0.1, num_leaves=2 .................................\n",
      "[CV]  learning_rate=0.1, num_leaves=2, score=-19231323.018, total=   0.4s\n",
      "[CV] learning_rate=0.1, num_leaves=2 .................................\n",
      "[CV]  learning_rate=0.1, num_leaves=2, score=-19227142.237, total=   0.4s\n",
      "[CV] learning_rate=0.1, num_leaves=2 .................................\n",
      "[CV]  learning_rate=0.1, num_leaves=2, score=-19419541.967, total=   0.4s\n",
      "[CV] learning_rate=0.02, num_leaves=2 ................................\n",
      "[CV]  learning_rate=0.02, num_leaves=2, score=-20445202.198, total=   0.4s\n",
      "[CV] learning_rate=0.02, num_leaves=2 ................................\n",
      "[CV]  learning_rate=0.02, num_leaves=2, score=-20644531.058, total=   0.4s\n",
      "[CV] learning_rate=0.02, num_leaves=2 ................................\n",
      "[CV]  learning_rate=0.02, num_leaves=2, score=-20581545.495, total=   0.4s\n",
      "[CV] learning_rate=0.02, num_leaves=2 ................................\n",
      "[CV]  learning_rate=0.02, num_leaves=2, score=-20575081.952, total=   0.4s\n",
      "[CV] learning_rate=0.02, num_leaves=2 ................................\n",
      "[CV]  learning_rate=0.02, num_leaves=2, score=-20763845.551, total=   0.4s\n",
      "[CV] learning_rate=0.02, num_leaves=10 ...............................\n",
      "[CV]  learning_rate=0.02, num_leaves=10, score=-20230359.918, total=   0.4s\n",
      "[CV] learning_rate=0.02, num_leaves=10 ...............................\n",
      "[CV]  learning_rate=0.02, num_leaves=10, score=-20427345.970, total=   0.4s\n",
      "[CV] learning_rate=0.02, num_leaves=10 ...............................\n",
      "[CV]  learning_rate=0.02, num_leaves=10, score=-20366225.142, total=   0.4s\n",
      "[CV] learning_rate=0.02, num_leaves=10 ...............................\n",
      "[CV]  learning_rate=0.02, num_leaves=10, score=-20360212.928, total=   0.4s\n",
      "[CV] learning_rate=0.02, num_leaves=10 ...............................\n",
      "[CV]  learning_rate=0.02, num_leaves=10, score=-20548433.866, total=   0.4s\n",
      "[CV] learning_rate=0.02, num_leaves=2 ................................\n",
      "[CV]  learning_rate=0.02, num_leaves=2, score=-20445202.198, total=   0.4s\n",
      "[CV] learning_rate=0.02, num_leaves=2 ................................\n",
      "[CV]  learning_rate=0.02, num_leaves=2, score=-20644531.058, total=   0.4s\n",
      "[CV] learning_rate=0.02, num_leaves=2 ................................\n",
      "[CV]  learning_rate=0.02, num_leaves=2, score=-20581545.495, total=   0.4s\n",
      "[CV] learning_rate=0.02, num_leaves=2 ................................\n",
      "[CV]  learning_rate=0.02, num_leaves=2, score=-20575081.952, total=   0.4s\n",
      "[CV] learning_rate=0.02, num_leaves=2 ................................\n",
      "[CV]  learning_rate=0.02, num_leaves=2, score=-20763845.551, total=   0.4s\n"
     ]
    },
    {
     "name": "stderr",
     "output_type": "stream",
     "text": [
      "[Parallel(n_jobs=1)]: Done  45 out of  45 | elapsed:   18.4s finished\n"
     ]
    },
    {
     "name": "stdout",
     "output_type": "stream",
     "text": [
      "Время обучения 1.7699508666992188\n",
      "Время предсказания 0.41347575187683105\n",
      "RMSE 1616.2023409406536\n"
     ]
    }
   ],
   "source": [
    "learn_log = go_lightgbm(df_for_lgbm, 'Price','RMSE', cat_features, learn_log)"
   ]
  },
  {
   "cell_type": "markdown",
   "metadata": {},
   "source": [
    "Не удалось передать список категорийных переменных для LightGBM т.к. когда задается аргумент categorical_feature (передаю список наименований категорийных переменных) - jupyter перестает работать"
   ]
  },
  {
   "cell_type": "markdown",
   "metadata": {},
   "source": [
    "# 3. Анализ времени работы моделей\n",
    "<a id='analyse_model'></a>"
   ]
  },
  {
   "cell_type": "code",
   "execution_count": 29,
   "metadata": {},
   "outputs": [
    {
     "data": {
      "text/html": [
       "<div>\n",
       "<style scoped>\n",
       "    .dataframe tbody tr th:only-of-type {\n",
       "        vertical-align: middle;\n",
       "    }\n",
       "\n",
       "    .dataframe tbody tr th {\n",
       "        vertical-align: top;\n",
       "    }\n",
       "\n",
       "    .dataframe thead th {\n",
       "        text-align: right;\n",
       "    }\n",
       "</style>\n",
       "<table border=\"1\" class=\"dataframe\">\n",
       "  <thead>\n",
       "    <tr style=\"text-align: right;\">\n",
       "      <th>Алгоритм</th>\n",
       "      <th>CatBoost</th>\n",
       "      <th>LGBMR</th>\n",
       "      <th>%</th>\n",
       "    </tr>\n",
       "    <tr>\n",
       "      <th>Показатель</th>\n",
       "      <th></th>\n",
       "      <th></th>\n",
       "      <th></th>\n",
       "    </tr>\n",
       "  </thead>\n",
       "  <tbody>\n",
       "    <tr>\n",
       "      <td>RMSE</td>\n",
       "      <td>1481.442757</td>\n",
       "      <td>1616.202341</td>\n",
       "      <td>0.083380</td>\n",
       "    </tr>\n",
       "    <tr>\n",
       "      <td>Время обучения</td>\n",
       "      <td>121.153182</td>\n",
       "      <td>1.769951</td>\n",
       "      <td>-67.450025</td>\n",
       "    </tr>\n",
       "    <tr>\n",
       "      <td>Время предсказания</td>\n",
       "      <td>0.631200</td>\n",
       "      <td>0.413476</td>\n",
       "      <td>-0.526570</td>\n",
       "    </tr>\n",
       "  </tbody>\n",
       "</table>\n",
       "</div>"
      ],
      "text/plain": [
       "Алгоритм               CatBoost        LGBMR          %\n",
       "Показатель                                             \n",
       "RMSE                1481.442757  1616.202341   0.083380\n",
       "Время обучения       121.153182     1.769951 -67.450025\n",
       "Время предсказания     0.631200     0.413476  -0.526570"
      ]
     },
     "execution_count": 29,
     "metadata": {},
     "output_type": "execute_result"
    }
   ],
   "source": [
    "log_df = pd.DataFrame(data=learn_log, columns = ['Алгоритм', 'Показатель','Значение'])\n",
    "pivot = log_df.pivot_table(index='Показатель',columns='Алгоритм',values='Значение',aggfunc='sum')\n",
    "pivot['%'] = 1 - pivot['CatBoost']/pivot['LGBMR'] \n",
    "pivot"
   ]
  },
  {
   "cell_type": "markdown",
   "metadata": {},
   "source": [
    "По результатам проведенной работы можем заключить - catboost обучается дольше (на 67%), предсказывает дольше (на 52%) чем LightGBM. Но метрика качества - RMSE у модели обученной с помощью библиотеки CatBoost меньше (на 8%)"
   ]
  }
 ],
 "metadata": {
  "kernelspec": {
   "display_name": "Python 3",
   "language": "python",
   "name": "python3"
  },
  "language_info": {
   "codemirror_mode": {
    "name": "ipython",
    "version": 3
   },
   "file_extension": ".py",
   "mimetype": "text/x-python",
   "name": "python",
   "nbconvert_exporter": "python",
   "pygments_lexer": "ipython3",
   "version": "3.7.4"
  }
 },
 "nbformat": 4,
 "nbformat_minor": 2
}
